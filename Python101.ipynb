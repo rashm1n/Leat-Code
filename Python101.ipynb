{
 "cells": [
  {
   "attachments": {},
   "cell_type": "markdown",
   "metadata": {},
   "source": [
    "### Lists\n",
    "* ordered collections of data \n",
    "* [: - Beginning of the sequence\n",
    "* :] - end of the sequence"
   ]
  },
  {
   "cell_type": "code",
   "execution_count": null,
   "metadata": {},
   "outputs": [],
   "source": [
    "list = [1,2,3,2.3,\"rashmin\"]\n",
    "print(list)\n",
    "\n",
    "print(list[0])\n",
    "print(list[-1])\n",
    "\n",
    "print(list[3:])\n",
    "print(list[-3:])\n",
    "print(list[:-3])\n",
    "print(list[:3])\n"
   ]
  },
  {
   "attachments": {},
   "cell_type": "markdown",
   "metadata": {},
   "source": [
    "### Tuple\n",
    "\n",
    "* Similar to lists, but immutable\n",
    "* Can contain various element types.\n",
    "* () - sytax"
   ]
  },
  {
   "cell_type": "code",
   "execution_count": null,
   "metadata": {},
   "outputs": [],
   "source": [
    "tup = ('g','f')\n",
    "print(tup)\n",
    "\n",
    "list = [1,2,3,'tup',3.4]\n",
    "tup2 = tuple(list)\n",
    "print(tup2)\n",
    "\n",
    "print(tup2[1])\n",
    "print(tup2[-1])\n",
    "print(tup2[-3:])"
   ]
  },
  {
   "attachments": {},
   "cell_type": "markdown",
   "metadata": {},
   "source": [
    "### Set\n",
    "\n",
    "* Mutable collection of data. No duplication\n",
    "* Used in hashing, membership testing, eliminating duplicates."
   ]
  },
  {
   "cell_type": "code",
   "execution_count": null,
   "metadata": {},
   "outputs": [],
   "source": [
    "list = [1,2,3,'set',3.4]\n",
    "s = set(list)\n",
    "\n",
    "print(s)\n",
    "\n",
    "for i in s:\n",
    "    print(i)\n",
    "    \n",
    "print(1 in s)\n",
    "s.add(1)"
   ]
  },
  {
   "attachments": {},
   "cell_type": "markdown",
   "metadata": {},
   "source": [
    "### Frozon Sets\n",
    "\n",
    "* immutable objects that only support methods and operators that produce a result without affecting the frozen set or sets to which they are applied."
   ]
  },
  {
   "cell_type": "code",
   "execution_count": 26,
   "metadata": {},
   "outputs": [
    {
     "name": "stdout",
     "output_type": "stream",
     "text": [
      "{1, 2, 3, 3.4, 'set'}\n",
      "frozenset({1, 2, 3, 3.4, 'set'})\n"
     ]
    }
   ],
   "source": [
    "list = [1,2,3,'set',3.4]\n",
    "s1 = set(list)\n",
    "fs = frozenset(list)\n",
    "\n",
    "print(s1)\n",
    "print(fs)"
   ]
  },
  {
   "attachments": {},
   "cell_type": "markdown",
   "metadata": {},
   "source": [
    "### String\n",
    "\n",
    "*  immutable array of bytes representing Unicode characters\n",
    "* single character is simply a string with a length of 1\n",
    "* As strings are immutable, modifying a string will result in creating a new copy\n"
   ]
  },
  {
   "cell_type": "code",
   "execution_count": 27,
   "metadata": {},
   "outputs": [
    {
     "name": "stdout",
     "output_type": "stream",
     "text": [
      "i\n",
      "jimmy hust\n"
     ]
    }
   ],
   "source": [
    "s = \"jimmy hustle\"\n",
    "print(s[1])\n",
    "print(s[:-2])"
   ]
  },
  {
   "attachments": {},
   "cell_type": "markdown",
   "metadata": {},
   "source": [
    "### Dictionary\n",
    "\n",
    "* unordered collection of data that stores data in the format of key:value pair\n",
    "*  time complexity of O(1)\n",
    "* create  - curly braces ({}) or dictionary comprehension\n"
   ]
  },
  {
   "cell_type": "code",
   "execution_count": null,
   "metadata": {},
   "outputs": [],
   "source": [
    "di = {'rash':'min',1:\"d\",\"r\":2}\n",
    "print(di)\n",
    "print(di[1])\n",
    "print(di[\"rash\"])\n",
    "print(di.get(2))\n",
    "\n",
    "x = {x: x*2 for x in [1,2,3,4]}\n",
    "print(x)\n"
   ]
  },
  {
   "attachments": {},
   "cell_type": "markdown",
   "metadata": {},
   "source": [
    "### Matrix - Numpy\n",
    "\n",
    "* 2D array where each element is of strictly the same size"
   ]
  },
  {
   "attachments": {},
   "cell_type": "markdown",
   "metadata": {},
   "source": [
    "### ByteArray\n",
    "\n",
    "* mutable sequence of integers in the range 0 <= x < 256"
   ]
  },
  {
   "cell_type": "code",
   "execution_count": 45,
   "metadata": {},
   "outputs": [
    {
     "name": "stdout",
     "output_type": "stream",
     "text": [
      "bytearray(b'\\x0c\\x08\\x19\\xff')\n"
     ]
    }
   ],
   "source": [
    "a = bytearray((12, 8, 25, 255))\n",
    "print(a) # bytearray(b'\\x0c\\x08\\x19\\xff')"
   ]
  },
  {
   "attachments": {},
   "cell_type": "markdown",
   "metadata": {},
   "source": [
    "### Linked List\n",
    "\n",
    "* linear data structure, in which the elements are not stored at contiguous memory locations\n",
    "* linked using pointers\n",
    "* represented by a pointer to the first node of the linked list (head)\n",
    "* if null, head = null\n",
    "*  Each node in a list consists of at least two parts:\n",
    "    *  Data\n",
    "    * Pointer (Or Reference) to the next node\n",
    "\n"
   ]
  },
  {
   "cell_type": "code",
   "execution_count": 55,
   "metadata": {},
   "outputs": [
    {
     "name": "stdout",
     "output_type": "stream",
     "text": [
      "1\n",
      "2\n",
      "3\n",
      "None\n"
     ]
    }
   ],
   "source": [
    "# Node class\n",
    "class Node:\n",
    "  \n",
    "    # Function to initialize the node object\n",
    "    def __init__(self, data):\n",
    "        self.data = data # Assign data\n",
    "        self.next = None # Initialize\n",
    "                        # next as null\n",
    "  \n",
    "# Linked List class\n",
    "class LinkedList:\n",
    "      \n",
    "    # Function to initialize the Linked\n",
    "    # List object\n",
    "    def __init__(self):\n",
    "        self.head = None\n",
    "        \n",
    "    def printList(self):\n",
    "        temp = self.head\n",
    "        while (temp):\n",
    "            print (temp.data)\n",
    "            temp = temp.next\n",
    "        \n",
    "# Code execution starts here\n",
    "if __name__=='__main__':\n",
    "  \n",
    "    # Start with the empty list\n",
    "    llist = LinkedList()\n",
    "  \n",
    "    llist.head = Node(1)\n",
    "    second = Node(2)\n",
    "    third = Node(3)\n",
    "  \n",
    "    llist.head.next = second    \n",
    "\n",
    "  \n",
    "    second.next = third\n",
    "    \n",
    "    print(llist.printList())\n",
    "    \n"
   ]
  },
  {
   "attachments": {},
   "cell_type": "markdown",
   "metadata": {},
   "source": []
  }
 ],
 "metadata": {
  "kernelspec": {
   "display_name": "Python 3",
   "language": "python",
   "name": "python3"
  },
  "language_info": {
   "codemirror_mode": {
    "name": "ipython",
    "version": 3
   },
   "file_extension": ".py",
   "mimetype": "text/x-python",
   "name": "python",
   "nbconvert_exporter": "python",
   "pygments_lexer": "ipython3",
   "version": "3.8.10"
  },
  "orig_nbformat": 4,
  "vscode": {
   "interpreter": {
    "hash": "916dbcbb3f70747c44a77c7bcd40155683ae19c65e1c03b4aa3499c5328201f1"
   }
  }
 },
 "nbformat": 4,
 "nbformat_minor": 2
}
